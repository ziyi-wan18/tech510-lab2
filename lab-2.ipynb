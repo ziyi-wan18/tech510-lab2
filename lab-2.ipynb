{
 "cells": [
  {
   "cell_type": "code",
   "execution_count": 20,
   "metadata": {},
   "outputs": [
    {
     "name": "stdout",
     "output_type": "stream",
     "text": [
      "Requirement already satisfied: requests in /Users/apple/anaconda3/lib/python3.11/site-packages (from -r requirements.txt (line 1)) (2.31.0)\n",
      "Requirement already satisfied: beautifulsoup4 in /Users/apple/anaconda3/lib/python3.11/site-packages (from -r requirements.txt (line 2)) (4.12.2)\n",
      "Requirement already satisfied: charset-normalizer<4,>=2 in /Users/apple/anaconda3/lib/python3.11/site-packages (from requests->-r requirements.txt (line 1)) (2.0.4)\n",
      "Requirement already satisfied: idna<4,>=2.5 in /Users/apple/anaconda3/lib/python3.11/site-packages (from requests->-r requirements.txt (line 1)) (3.4)\n",
      "Requirement already satisfied: urllib3<3,>=1.21.1 in /Users/apple/anaconda3/lib/python3.11/site-packages (from requests->-r requirements.txt (line 1)) (1.26.16)\n",
      "Requirement already satisfied: certifi>=2017.4.17 in /Users/apple/anaconda3/lib/python3.11/site-packages (from requests->-r requirements.txt (line 1)) (2023.7.22)\n",
      "Requirement already satisfied: soupsieve>1.2 in /Users/apple/anaconda3/lib/python3.11/site-packages (from beautifulsoup4->-r requirements.txt (line 2)) (2.4)\n"
     ]
    }
   ],
   "source": [
    "! pip install -r requirements.txt"
   ]
  },
  {
   "cell_type": "code",
   "execution_count": 21,
   "metadata": {},
   "outputs": [
    {
     "name": "stdout",
     "output_type": "stream",
     "text": [
      "Requirement already satisfied: requests in /Library/Frameworks/Python.framework/Versions/3.11/lib/python3.11/site-packages (2.31.0)\n",
      "Requirement already satisfied: charset-normalizer<4,>=2 in /Library/Frameworks/Python.framework/Versions/3.11/lib/python3.11/site-packages (from requests) (3.3.2)\n",
      "Requirement already satisfied: idna<4,>=2.5 in /Library/Frameworks/Python.framework/Versions/3.11/lib/python3.11/site-packages (from requests) (3.6)\n",
      "Requirement already satisfied: urllib3<3,>=1.21.1 in /Library/Frameworks/Python.framework/Versions/3.11/lib/python3.11/site-packages (from requests) (2.1.0)\n",
      "Requirement already satisfied: certifi>=2017.4.17 in /Library/Frameworks/Python.framework/Versions/3.11/lib/python3.11/site-packages (from requests) (2023.11.17)\n",
      "\n",
      "\u001b[1m[\u001b[0m\u001b[34;49mnotice\u001b[0m\u001b[1;39;49m]\u001b[0m\u001b[39;49m A new release of pip is available: \u001b[0m\u001b[31;49m23.2.1\u001b[0m\u001b[39;49m -> \u001b[0m\u001b[32;49m23.3.2\u001b[0m\n",
      "\u001b[1m[\u001b[0m\u001b[34;49mnotice\u001b[0m\u001b[1;39;49m]\u001b[0m\u001b[39;49m To update, run: \u001b[0m\u001b[32;49mpython3 -m pip install --upgrade pip\u001b[0m\n",
      "Note: you may need to restart the kernel to use updated packages.\n"
     ]
    }
   ],
   "source": [
    "pip install requests\n"
   ]
  },
  {
   "cell_type": "code",
   "execution_count": 22,
   "metadata": {},
   "outputs": [
    {
     "name": "stdout",
     "output_type": "stream",
     "text": [
      "Requirement already satisfied: beautifulsoup4 in /Library/Frameworks/Python.framework/Versions/3.11/lib/python3.11/site-packages (4.12.3)\n",
      "Requirement already satisfied: soupsieve>1.2 in /Library/Frameworks/Python.framework/Versions/3.11/lib/python3.11/site-packages (from beautifulsoup4) (2.5)\n",
      "\n",
      "\u001b[1m[\u001b[0m\u001b[34;49mnotice\u001b[0m\u001b[1;39;49m]\u001b[0m\u001b[39;49m A new release of pip is available: \u001b[0m\u001b[31;49m23.2.1\u001b[0m\u001b[39;49m -> \u001b[0m\u001b[32;49m23.3.2\u001b[0m\n",
      "\u001b[1m[\u001b[0m\u001b[34;49mnotice\u001b[0m\u001b[1;39;49m]\u001b[0m\u001b[39;49m To update, run: \u001b[0m\u001b[32;49mpython3 -m pip install --upgrade pip\u001b[0m\n",
      "Note: you may need to restart the kernel to use updated packages.\n"
     ]
    }
   ],
   "source": [
    "pip install beautifulsoup4"
   ]
  },
  {
   "cell_type": "code",
   "execution_count": 23,
   "metadata": {},
   "outputs": [],
   "source": [
    "import requests\n",
    "from bs4 import BeautifulSoup\n",
    "import csv"
   ]
  },
  {
   "cell_type": "code",
   "execution_count": 28,
   "metadata": {},
   "outputs": [
    {
     "name": "stdout",
     "output_type": "stream",
     "text": [
      "Event List: ['https://visitseattle.org/events/steinunn-porarinsdottir-wayfinders/', 'https://visitseattle.org/events/hanako-oleary-izanami/', 'https://visitseattle.org/events/gage-alumni-show/', 'https://visitseattle.org/events/genre-box/', 'https://visitseattle.org/events/bohemia/', 'https://visitseattle.org/events/alice-in-shadowland/', 'https://visitseattle.org/events/lee-ritenour-and-dave-grusin/', 'https://visitseattle.org/events/tacoma-home-garden-show/', 'https://visitseattle.org/events/annie-eastwood-with-kimball-and-the-fugitives/', 'https://visitseattle.org/events/black-and-boujee-panel-discussion/', 'https://visitseattle.org/events/celebrate-asia/', 'https://visitseattle.org/events/djangos-birthday-concert-with-ranger-and-the-re-arrangers/', 'https://visitseattle.org/events/family-day-with-birds-connect-seattle/', 'https://visitseattle.org/events/fossil-finders-ice-ages/', 'https://visitseattle.org/events/seattle-kraken-vs-columbus-blue-jackets/', 'https://visitseattle.org/events/tacoma-stars-vs-san-diego-sockers-3/', 'https://visitseattle.org/events/adira-sharkey/', 'https://visitseattle.org/events/car-the-garden/', 'https://visitseattle.org/events/walla-walla-wine-on-tour/', 'https://visitseattle.org/events/cheryl-wheeler/', 'https://visitseattle.org/events/giantish/', 'https://visitseattle.org/events/seattle-thunderbirds-vs-prince-george-cougars-2/', 'https://visitseattle.org/events/a-political-rocks/', 'https://visitseattle.org/events/sophia-al-maria/', 'https://visitseattle.org/events/jahari-stampley/', 'https://visitseattle.org/events/fraktured-home-of-the-broken-beat/', 'https://visitseattle.org/events/g3-25th-anniversary-reunion/', 'https://visitseattle.org/events/jp-saxe/', 'https://visitseattle.org/events/los-lobos/', 'https://visitseattle.org/events/the-daimonics/', 'https://visitseattle.org/events/babytron/', 'https://visitseattle.org/events/battlestar-kalakala/', 'https://visitseattle.org/events/catalyzing-change-with-akuyea-karen-vargas/', 'https://visitseattle.org/events/exceptional-failures/', 'https://visitseattle.org/events/jamila-woods/', 'https://visitseattle.org/events/jazz-is-dead-blue-note-85/', 'https://visitseattle.org/events/michelle-cann/', 'https://visitseattle.org/events/pakt/', 'https://visitseattle.org/events/public-theatre/', 'https://visitseattle.org/events/american-flats-album-release/', 'https://visitseattle.org/events/erik-walters/', 'https://visitseattle.org/events/memoir/', 'https://visitseattle.org/events/nora-en-pure/', 'https://visitseattle.org/events/poolside/', 'https://visitseattle.org/events/tacoma-stars-vs-monterrey-flash/', 'https://visitseattle.org/events/jaha-koo-the-history-of-korean-western-theatre/', 'https://visitseattle.org/events/the-winds-medley-of-emotions/', 'https://visitseattle.org/events/all-will-suffer/', 'https://visitseattle.org/events/banned-beloved/', 'https://visitseattle.org/events/cold-war-kids-20-years-tour/', 'https://visitseattle.org/events/mau-p/', 'https://visitseattle.org/events/oble/', 'https://visitseattle.org/events/randy-rainbow-for-president/', 'https://visitseattle.org/events/the-delta-bombers/', 'https://visitseattle.org/events/the-grave-plot-film-fest-part-6/', 'https://visitseattle.org/events/seattle-chamber-music-winter-festival/', 'https://visitseattle.org/events/beethoven-emperor-concerto/', 'https://visitseattle.org/events/sergio-mendes/', 'https://visitseattle.org/events/daniel-tigers-neighborhood/', 'https://visitseattle.org/events/family-art-day-la-vaughn-belle/', 'https://visitseattle.org/events/lil-skies/', 'https://visitseattle.org/events/secular-and-sacred/', 'https://visitseattle.org/events/criminal/', 'https://visitseattle.org/events/neck-deep/', 'https://visitseattle.org/events/kazu-kibuishi-with-donna-barba-higuera/', 'https://visitseattle.org/events/kristin-hannah/', 'https://visitseattle.org/events/michael-j-gerhardt/', 'https://visitseattle.org/events/night-lovell/', 'https://visitseattle.org/events/soja/', 'https://visitseattle.org/events/kenny-barron-trio/', 'https://visitseattle.org/events/dimiter/', 'https://visitseattle.org/events/tamara-payne-the-life-and-legacy-of-malcolm-x/', 'https://visitseattle.org/events/the-kills/', 'https://visitseattle.org/events/an-evening-with-tina-campt-black-feminist-visual-culture/', 'https://visitseattle.org/events/art-and-transformation/', 'https://visitseattle.org/events/eric-bellinger/', 'https://visitseattle.org/events/futurebirds-and-nude-party/', 'https://visitseattle.org/events/ilana-glazer-live/', 'https://visitseattle.org/events/mister-blank/', 'https://visitseattle.org/events/the-thorn/', 'https://visitseattle.org/events/barry-cant-swim/', 'https://visitseattle.org/events/dark-star-orchestra/', 'https://visitseattle.org/events/govt-mule/', 'https://visitseattle.org/events/ijeoma-oluo-be-a-revolution/', 'https://visitseattle.org/events/mayer-hawthorne/', 'https://visitseattle.org/events/moontricks/', 'https://visitseattle.org/events/oboe-oboe/', 'https://visitseattle.org/events/roots-and-wings/', 'https://visitseattle.org/events/seattle-boat-show/', 'https://visitseattle.org/events/randall-goosby-plays-mozart/', 'https://visitseattle.org/events/art-by-design/', 'https://visitseattle.org/events/the-love-show/', 'https://visitseattle.org/events/brazilian-carnaval-2024/', 'https://visitseattle.org/events/chase-rice/', 'https://visitseattle.org/events/joe-mr-d-dombrowski/', 'https://visitseattle.org/events/jvna/', 'https://visitseattle.org/events/linda-from-work/', 'https://visitseattle.org/events/the-brother-brothers/', 'https://visitseattle.org/events/the-temptations-the-four-tops/', 'https://visitseattle.org/events/quixote-nuevo/', 'https://visitseattle.org/events/kent-stowells-swan-lake/', 'https://visitseattle.org/events/blood-sweat-and-tears/', 'https://visitseattle.org/events/love-at-the-zoo/', 'https://visitseattle.org/events/scott-bradlees-postmodern-jukebox/', 'https://visitseattle.org/events/tourist-and-amtrac/', 'https://visitseattle.org/events/6th-annual-sami-film-festival/', 'https://visitseattle.org/events/eliades-ochoa/', 'https://visitseattle.org/events/k-wayne-yang/', 'https://visitseattle.org/events/juanes/', 'https://visitseattle.org/events/black-dogs-2/', 'https://visitseattle.org/events/hear-me-talkin-to-you-womxn-and-blues/', 'https://visitseattle.org/events/maddie-zahm/', 'https://visitseattle.org/events/silversun-pickups/', 'https://visitseattle.org/events/the-brodies/', 'https://visitseattle.org/events/cory-wong-winter-2024-tour/', 'https://visitseattle.org/events/left-on-tenth/', 'https://visitseattle.org/events/marlon-wayans/', 'https://visitseattle.org/events/riley-mulherkar-album-release-show/', 'https://visitseattle.org/events/yeah/', 'https://visitseattle.org/events/circahumans-2-0/', 'https://visitseattle.org/events/big-business/', 'https://visitseattle.org/events/david-wax-museum/', 'https://visitseattle.org/events/jon-batiste/', 'https://visitseattle.org/events/lespecial/', 'https://visitseattle.org/events/tobymac-hits-deep-2024/', 'https://visitseattle.org/events/a-case-for-the-existence-of-god/', 'https://visitseattle.org/events/northwest-flower-garden-festival/', 'https://visitseattle.org/events/the-princess-bride-in-concert-with-the-seattle-symphony/', 'https://visitseattle.org/events/mindi-abair-wine-and-jazz-tour-2024/', 'https://visitseattle.org/events/madonna/', 'https://visitseattle.org/events/aqua-fools-day/', 'https://visitseattle.org/events/dr-joy-buolamwini/', 'https://visitseattle.org/events/la-nef-red-sky-at-night/', 'https://visitseattle.org/events/love-beyond-border/', 'https://visitseattle.org/events/meet-the-author-maggie-taft-the-chieftain-and-the-chair/', 'https://visitseattle.org/events/seattle-kraken-vs-detroit-red-wings/', 'https://visitseattle.org/events/the-thrifted/', 'https://visitseattle.org/events/black-and-boujee/', 'https://visitseattle.org/events/from-mozart-to-matthews/', 'https://visitseattle.org/events/lukas-nelson/', 'https://visitseattle.org/events/mahogany-smartfilms-black-luxury/', 'https://visitseattle.org/events/robots-who-paint/', 'https://visitseattle.org/events/trask/', 'https://visitseattle.org/events/wu-han-philip-setzer-david-finckel/', 'https://visitseattle.org/events/the-cookers/', 'https://visitseattle.org/events/cesar-cuauhtemoc-garcia-hernandez/', 'https://visitseattle.org/events/side-by-side-with-seattle-youth-symphony-orchestra/', 'https://visitseattle.org/events/bailen/', 'https://visitseattle.org/events/dr-charan-ranganath/', 'https://visitseattle.org/events/mountain-holler/', 'https://visitseattle.org/events/seattle-kraken-vs-vancouver-canucks/', 'https://visitseattle.org/events/shabaka/', 'https://visitseattle.org/events/funky-friday-with-f2d/', 'https://visitseattle.org/events/blackstar-symphony-the-music-of-david-bowie/', 'https://visitseattle.org/events/caligulas-horse/', 'https://visitseattle.org/events/opera-talk-the-making-of-x/', 'https://visitseattle.org/events/tikkadoom-and-nick-drummond/', 'https://visitseattle.org/events/wreckno/', 'https://visitseattle.org/events/kelly-akashi/', 'https://visitseattle.org/events/the-lower-depths/', 'https://visitseattle.org/events/bassekou-kouyate-and-vieux-farka-toure/', 'https://visitseattle.org/events/crystal-skies/', 'https://visitseattle.org/events/dan-brown-wild-symphony/', 'https://visitseattle.org/events/nate-jackson/', 'https://visitseattle.org/events/pink-sweat/', 'https://visitseattle.org/events/root-and-branch/', 'https://visitseattle.org/events/seattle-kraken-vs-minnesota-wild-2/', 'https://visitseattle.org/events/small-island-big-song/', 'https://visitseattle.org/events/born-with-teeth/', 'https://visitseattle.org/events/once-more-just-for-you/', 'https://visitseattle.org/events/wintergrass-music-festival/', 'https://visitseattle.org/events/klezmer-starts-here-the-music-of-abe-schwartz/', 'https://visitseattle.org/events/telling-the-story/', 'https://visitseattle.org/events/cherry-glazerr/', 'https://visitseattle.org/events/dick-angel-dare-to-do-it/', 'https://visitseattle.org/events/seattle-kraken-vs-boston-bruins/', 'https://visitseattle.org/events/hunt-for-sleeping-giants-national-geographic-live/', 'https://visitseattle.org/events/big-tooth/', 'https://visitseattle.org/events/eric-klinenberg/', 'https://visitseattle.org/events/fresh-dressed-smartfilms-black-luxury/', 'https://visitseattle.org/events/joy-harjo/', 'https://visitseattle.org/events/anand-gopal/', 'https://visitseattle.org/events/dianne-reeves/', 'https://visitseattle.org/events/kassa-overall/', 'https://visitseattle.org/events/playboi-carti/', 'https://visitseattle.org/events/winter-brilliance/', 'https://visitseattle.org/events/seattle-museum-month/', 'https://visitseattle.org/events/jna-and-tavia-rhodes/', 'https://visitseattle.org/events/julian-lage/', 'https://visitseattle.org/events/marchfourth/', 'https://visitseattle.org/events/seattle-kraken-vs-pittsburgh-penguins/', 'https://visitseattle.org/events/the-human-family-2/', 'https://visitseattle.org/events/enjambre/', 'https://visitseattle.org/events/fall-out-boy/', 'https://visitseattle.org/events/global-rhythms-justin-adams-and-mauro-durante/', 'https://visitseattle.org/events/sloane-crosley-with-ben-gibbard/', 'https://visitseattle.org/events/tacoma-stars-vs-harrisburg-heat/', 'https://visitseattle.org/events/tommy-emmanuel/', 'https://visitseattle.org/events/facades/', 'https://visitseattle.org/events/conrad-taos-playlist/', 'https://visitseattle.org/events/crypta/', 'https://visitseattle.org/events/seattle-kraken-vs-edmonton-oilers/', 'https://visitseattle.org/events/seattle-sounders-fc-vs-austin-fc/', 'https://visitseattle.org/events/emerald-city-comic-con/', 'https://visitseattle.org/events/briscoe/', 'https://visitseattle.org/events/tacoma-stars-vs-harrisburg-heat-2/', 'https://visitseattle.org/events/eves-bayou-smartfilms-black-luxury/', 'https://visitseattle.org/events/atlus/', 'https://visitseattle.org/events/calidore-quartet-abeo-quartet/', 'https://visitseattle.org/events/holding-movement/', 'https://visitseattle.org/events/seattle-kraken-vs-winnipeg-jets/', 'https://visitseattle.org/events/xthe-life-and-times-of-malcolm-x/', 'https://visitseattle.org/events/bach-st-john-passion/', 'https://visitseattle.org/events/ariel-pink/', 'https://visitseattle.org/events/helene-grimaud/', 'https://visitseattle.org/events/josiah-and-the-bonnevilles/', 'https://visitseattle.org/events/mahan-esfahan/', 'https://visitseattle.org/events/positive-fragmentation/', 'https://visitseattle.org/events/antonio-m-gomez-lineajes/', 'https://visitseattle.org/events/soren-solkaer-sort-sol/', 'https://visitseattle.org/events/luchadora/', 'https://visitseattle.org/events/wild-cats-revealed-national-geographic-live/', 'https://visitseattle.org/events/seattle-kraken-vs-vegas-golden-knights/', 'https://visitseattle.org/events/seattle-kraken-vs-washington-capitals/', 'https://visitseattle.org/events/autoheart/', 'https://visitseattle.org/events/the-snuts/', 'https://visitseattle.org/events/mark-morris-dance-group-the-look-of-love/', 'https://visitseattle.org/events/sibelius-nielsen/', 'https://visitseattle.org/events/tacoma-stars-vs-chihuahua-savage/', 'https://visitseattle.org/events/seattle-kraken-vs-nashville-predators/', 'https://visitseattle.org/events/seattle-sounders-fc-vs-colorado-rapids/', 'https://visitseattle.org/events/native-portraiture-power-and-perception/', 'https://visitseattle.org/events/places-to-call-home-settlements-in-the-west/', 'https://visitseattle.org/events/nobody-lives-here/', 'https://visitseattle.org/events/rootabaga-country/', 'https://visitseattle.org/events/seattle-kraken-vs-buffalo-sabres/', 'https://visitseattle.org/events/tacoma-stars-vs-empire-strykers-2/', 'https://visitseattle.org/events/somethings-afoot/', 'https://visitseattle.org/events/one-thousand-pieces/', 'https://visitseattle.org/events/simon-trpceski-plays-tchaikovsky/', 'https://visitseattle.org/events/celebrate-holi-spring-festival-of-colors-from-south-asia/', 'https://visitseattle.org/events/seattle-kraken-vs-montreal-canadiens/', 'https://visitseattle.org/events/seattle-kraken-vs-anaheim-ducks/', 'https://visitseattle.org/events/seattle-kraken-vs-anaheim-ducks-2/', 'https://visitseattle.org/events/tim-mcgraw/', 'https://visitseattle.org/events/harold-and-the-purple-crayon/', 'https://visitseattle.org/events/monster-jam/', 'https://visitseattle.org/events/seattle-kraken-vs-dallas-stars/', 'https://visitseattle.org/events/illuminate-glass-art-for-early-learners/', 'https://visitseattle.org/events/al-youngs-1970-dodge-challenger-drag-racer/', 'https://visitseattle.org/events/shine-on-seattle/', 'https://visitseattle.org/events/sanctuary-city/', 'https://visitseattle.org/events/stew/', 'https://visitseattle.org/events/luis-miguel/', 'https://visitseattle.org/events/taylor-raven-and-duke-kim-in-recital/', 'https://visitseattle.org/events/jo-koy/', 'https://visitseattle.org/events/copland-appalachian-spring/', 'https://visitseattle.org/events/seattle-sounders-fc-vs-cf-montreal/', 'https://visitseattle.org/events/tom-segura/', 'https://visitseattle.org/events/la-vaughn-belle-a-history-of-unruly-returns/', 'https://visitseattle.org/events/beetlejuice/', 'https://visitseattle.org/events/seattle-kraken-vs-arizona-coyotes/', 'https://visitseattle.org/events/seattle-kraken-vs-san-jose-sharks/', 'https://visitseattle.org/events/the-percussion-sounds-from-home/', 'https://visitseattle.org/events/honoring-50-years-of-papunya-tula-painting/', 'https://visitseattle.org/events/the-moors/', 'https://visitseattle.org/events/mahler-symphony-no-3/', 'https://visitseattle.org/events/best-of-the-northwest-spring-show/', 'https://visitseattle.org/events/an-evening-with-jinjoo-cho/', 'https://visitseattle.org/events/dvorak-symphony-no-6/', 'https://visitseattle.org/events/seattle-sounders-fc-vs-vancouver-whitecaps-fc-2/', 'https://visitseattle.org/events/the-seasons-canon/', 'https://visitseattle.org/events/drum-tao-30th-anniversary/', 'https://visitseattle.org/events/ajr/', 'https://visitseattle.org/events/disneys-aladdin/', 'https://visitseattle.org/events/antarctic-symphony/', 'https://visitseattle.org/events/noah-gellers-playlist/', 'https://visitseattle.org/events/broadway-spectacular/', 'https://visitseattle.org/events/jessica-jackson-hutchins-wrecked-and-righteous/', 'https://visitseattle.org/events/the-lion-tells-his-tale/', 'https://visitseattle.org/events/seattle-sounders-fc-vs-la-galaxy/', 'https://visitseattle.org/events/melanie-martinez/', 'https://visitseattle.org/events/guma-gela-part-land-part-sea-all-ancestry/', 'https://visitseattle.org/events/jaune-quick-to-see-smith-memory-map/', 'https://visitseattle.org/events/fat-ham/', 'https://visitseattle.org/events/a-tale-of-peter-rabbit/', 'https://visitseattle.org/events/the-lehman-trilogy/', 'https://visitseattle.org/events/the-untold-story-of-sharks-national-geographic-live/', 'https://visitseattle.org/events/seattle-storm-vs-minnesota-lynx/', 'https://visitseattle.org/events/mother/', 'https://visitseattle.org/events/barber-violin-concerto/', 'https://visitseattle.org/events/seattle-sounders-fc-vs-vancouver-whitecaps-fc/', 'https://visitseattle.org/events/seattle-storm-vs-indiana-fever/', 'https://visitseattle.org/events/the-barber-of-seville/', 'https://visitseattle.org/events/seattle-storm-vs-washington-mystics-2/', 'https://visitseattle.org/events/seattle-sounders-fc-vs-real-salt-lake/', 'https://visitseattle.org/events/unriveled/', 'https://visitseattle.org/events/seattle-storm-vs-phoenix-mercury-2/', 'https://visitseattle.org/events/george-balenchines-coppelia/', 'https://visitseattle.org/events/jan-lisiecki-plays-prokofiev/', 'https://visitseattle.org/events/seattle-storm-vs-los-angeles-sparks-2/', 'https://visitseattle.org/events/beethoven-symphony-no-5/', 'https://visitseattle.org/events/elizabeth-malaska-all-be-your-mirror/', 'https://visitseattle.org/events/joshua-bell-plays-elements-concerto/', 'https://visitseattle.org/events/seattle-sounders-fc-vs-minnesota-united-fc/', 'https://visitseattle.org/events/together-again-again/', 'https://visitseattle.org/events/2024-kpmg-womens-pga-championship/', 'https://visitseattle.org/events/lip-sync-for-our-rights/', 'https://visitseattle.org/events/seattle-storm-vs-connecticut-sun/', 'https://visitseattle.org/events/seattle-storm-vs-indiana-fever-2/', 'https://visitseattle.org/events/company/', 'https://visitseattle.org/events/seattle-storm-vs-dallas-wings/', 'https://visitseattle.org/events/sounders-fc-vs-chicago-fire-fc/', 'https://visitseattle.org/events/2024-university-of-washington-mfa-mdes-thesis-exhibition/', 'https://visitseattle.org/events/spring-awakening/', 'https://visitseattle.org/events/girl-from-the-north-country/', 'https://visitseattle.org/events/seattle-storm-vs-dallas-wings-2/', 'https://visitseattle.org/events/seattle-storm-vs-chicago-sky-2/', 'https://visitseattle.org/events/anida-yoeu-ali-hybrid-skin-mythical-presence/', 'https://visitseattle.org/events/seattle-storm-vs-chicago-sky/', 'https://visitseattle.org/events/seattle-storm-vs-las-vegas-aces/', 'https://visitseattle.org/events/seattle-storm-vs-minnesota-lynx-2/', 'https://visitseattle.org/events/seattle-storm-vs-atlanta-dream-2/', 'https://visitseattle.org/events/seattle-sounders-fc-vs-los-angeles-fc/', 'https://visitseattle.org/events/nordic-utopia-african-americans-in-the-20th-century/', 'https://visitseattle.org/events/clue/', 'https://visitseattle.org/events/be-water-my-friend-the-teachings-of-bruce-lee/', 'https://visitseattle.org/events/olivia-rodrigo/', 'https://visitseattle.org/events/seattle-storm-vs-washington-mystics/', 'https://visitseattle.org/events/seattle-storm-vs-atlanta-dream/', 'https://visitseattle.org/events/seattle-storm-vs-new-york-liberty/', 'https://visitseattle.org/events/hidden-worlds-the-films-of-laika/', 'https://visitseattle.org/events/poke-in-the-eye-art-of-the-west-coast-counterculture/', 'https://visitseattle.org/events/chicago-and-earth-wind-fire/', 'https://visitseattle.org/events/seattle-storm-vs-phoenix-mercury/', 'https://visitseattle.org/events/sound-check-the-music-we-make/', 'https://visitseattle.org/events/seattle-sounders-fc-vs-sporting-kansas-city/', 'https://visitseattle.org/events/seattle-storm-vs-los-angeles-sparks/', 'https://visitseattle.org/events/seattle-storm-vs-las-vegas-aces-2/', 'https://visitseattle.org/events/seattle-sounders-fc-vs-san-jose-earthquakes/', 'https://visitseattle.org/events/seatle-sounders-fc-vs-houston-dynamo/', 'https://visitseattle.org/events/raul-de-nieves/', 'https://visitseattle.org/events/seattle-sounders-fc-vs-portland-timbers/', 'https://visitseattle.org/events/sebastian-maniscalco/', 'https://visitseattle.org/events/frye-salon/', 'https://visitseattle.org/events/on-native-land-landscapes-from-the-haub-family-collection/', 'https://visitseattle.org/events/joyce-j-scott-walk-a-mile-in-my-dreams/', 'https://visitseattle.org/events/washi-transformed-new-expressions-in-japanese-paper/', 'https://visitseattle.org/events/explore-the-market/', 'https://visitseattle.org/events/olympic-sculpture-park/', 'https://visitseattle.org/events/infinite-worlds-of-science-fiction/', 'https://visitseattle.org/events/wild-blue-angel-hendrix-abroad-1966-70/', 'https://visitseattle.org/events/john-grade-middle-fork/', 'https://visitseattle.org/events/scared-to-death-the-thrill-of-horror-film/', 'https://visitseattle.org/events/nirvana-taking-punk-to-the-masses/', 'https://visitseattle.org/events/vietnam-divided-war-above-southeast-asia/', 'https://visitseattle.org/events/science-fiction-and-fantasy-hall-of-fame/', 'https://visitseattle.org/events/cambodian-cultural-museum-and-killing-fields-memorial/', 'https://visitseattle.org/events/honoring-our-journey/', 'https://visitseattle.org/events/spotlight-on-dale-chihuly-works-from-museum-of-glass-permanent-collection/']\n"
     ]
    }
   ],
   "source": [
    "eventlist = []\n",
    "\n",
    "for i in range(1, 41):\n",
    "    url = f\"https://visitseattle.org/events/page/{i}\"\n",
    "    response = requests.get(url)\n",
    "    \n",
    "    if response.status_code == 200:\n",
    "        soup = BeautifulSoup(response.text, 'html.parser')\n",
    "        selector = \"div.search-result-preview > div > h3 > a\"\n",
    "        a_eles = soup.select (selector)\n",
    "        eventlist += [x['href']for x in a_eles]\n",
    "\n",
    "print('Event List:', eventlist)"
   ]
  },
  {
   "cell_type": "code",
   "execution_count": 29,
   "metadata": {},
   "outputs": [],
   "source": [
    "# open a csv file to write\n",
    "with open('eventlist.csv', 'w', newline = '') as f:\n",
    "    #create a csv writer object\n",
    "    writer = csv.writer(f)\n",
    "\n",
    "    # write the header\n",
    "    writer.writerow([\"Name\", \"Date & Time\", \"Location\", \"Type\", \"Region\"])\n",
    "\n",
    "    # loop through each event and write data to csv file\n",
    "    for event_url in event_list:\n",
    "        res = requests.get(event_url)\n",
    "\n",
    "        # check if the server response is ok\n",
    "        if res.status_code == 200:\n",
    "            event_info = []\n",
    "            # parse the html text\n",
    "            soup = BeautifulSoup(res.text, \"html.parser\")\n",
    "\n",
    "            # get the name of the event\n",
    "            name_selector = \"div.medium-6.columns.event-top > h1\"\n",
    "            name_eles = soup.select(name_selector)\n",
    "            event_info.append(name_eles[0].text)\n",
    "            \n",
    "            # get the date and time of the event\n",
    "            date_and_time_selector = \"div.medium-6.columns.event-top > h4 > span:nth-child(1)\"\n",
    "            date_and_time_eles = soup.select(date_and_time_selector)\n",
    "            event_info.append(date_and_time_eles[0].text)\n",
    "\n",
    "            # get the location of the event\n",
    "            location_selector = \"div.medium-6.columns.event-top > h4 > span:nth-child(2)\"\n",
    "            location_eles = soup.select(location_selector)\n",
    "            event_info.append(location_eles[0].text)\n",
    "\n",
    "            # get the type of the event\n",
    "            type_selector = \"div.medium-6.columns.event-top > a:nth-child(3)\"\n",
    "            type_eles = soup.select(type_selector)\n",
    "            event_info.append(type_eles[0].text)\n",
    "\n",
    "            # get the region of the event\n",
    "            region_selector = \"div.medium-6.columns.event-top > a:nth-child(4)\"\n",
    "            region_eles = soup.select(region_selector)\n",
    "            event_info.append(region_eles[0].text)\n",
    "\n",
    "            writer.writerow(event_info)\n"
   ]
  },
  {
   "cell_type": "code",
   "execution_count": 30,
   "metadata": {},
   "outputs": [],
   "source": [
    "import requests\n",
    "import datetime\n",
    "import re"
   ]
  },
  {
   "cell_type": "code",
   "execution_count": 34,
   "metadata": {},
   "outputs": [],
   "source": [
    "# read the event file into a list of event dictionaries, using the header row to determine column names.\n",
    "events_file = open('event_list.csv', 'r')\n",
    "events = list( csv.DictReader(events_file, delimiter=','))\n",
    "events_file.close()"
   ]
  },
  {
   "cell_type": "code",
   "execution_count": 36,
   "metadata": {},
   "outputs": [],
   "source": [
    "with open('event_weather_info.csv', 'w', newline = '') as f:\n",
    "    # create a csv writer object\n",
    "    writer = csv.writer(f)\n",
    "\n",
    "    # write the header\n",
    "    writer.writerow([\"Name\", \"Region\", \"Weathers\"])\n",
    "    "
   ]
  },
  {
   "cell_type": "code",
   "execution_count": 37,
   "metadata": {},
   "outputs": [],
   "source": [
    "import csv\n",
    "import re\n",
    "import requests\n",
    "import datetime\n",
    "\n",
    "def get_weather_for_region(region, event_date):\n",
    "    # Look up the location coordinates\n",
    "    location_response = requests.get(f\"https://nominatim.openstreetmap.org/search.php?q={region}&format=jsonv2\")\n",
    "    if location_response.status_code == 200 and location_response.json():\n",
    "        location_data = location_response.json()[0]\n",
    "        lat, lon = location_data['lat'], location_data['lon']\n",
    "\n",
    "        # Look up the weather for the location\n",
    "        weather_response = requests.get(f\"https://api.weather.gov/points/{lat},{lon}\")\n",
    "        if weather_response.status_code == 200:\n",
    "            weather_data = weather_response.json()\n",
    "            forecast_url = weather_data['properties']['forecast']\n",
    "            forecast_response = requests.get(forecast_url)\n",
    "            if forecast_response.status_code == 200:\n",
    "                forecast_data = forecast_response.json()\n",
    "\n",
    "                # Find the daytime weather for the event date\n",
    "                for period in forecast_data['properties']['periods']:\n",
    "                    if period['isDaytime']:\n",
    "                        start_time = datetime.datetime.fromisoformat(period['startTime']).date()\n",
    "                        event_date_obj = datetime.datetime.strptime(event_date, \"%m/%d/%Y\").date()\n",
    "                        if start_time == event_date_obj:\n",
    "                            return f\"{period['temperature']}°F, {period['shortForecast']}\"\n",
    "\n",
    "# Read the event file\n",
    "with open('event_list.csv', 'r') as events_file:\n",
    "    events = list(csv.DictReader(events_file))\n",
    "\n",
    "# Write to the new event weather info file\n",
    "with open('event_weather_info.csv', 'w', newline='') as f:\n",
    "    writer = csv.DictWriter(f, fieldnames=[\"Name\", \"Region\", \"Weathers\"])\n",
    "    writer.writeheader()\n",
    "    for event in events:\n",
    "        date = event['Date & Time']\n",
    "        if re.match(r'^\\d{1,2}/\\d{1,2}/\\d{4}$', date):\n",
    "            weather_info = get_weather_for_region(event['Region'], date)\n",
    "            if weather_info:\n",
    "                writer.writerow({\n",
    "                    \"Name\": event['Name'],\n",
    "                    \"Region\": event['Region'],\n",
    "                    \"Weathers\": weather_info\n",
    "                })\n"
   ]
  }
 ],
 "metadata": {
  "kernelspec": {
   "display_name": "base",
   "language": "python",
   "name": "python3"
  },
  "language_info": {
   "codemirror_mode": {
    "name": "ipython",
    "version": 3
   },
   "file_extension": ".py",
   "mimetype": "text/x-python",
   "name": "python",
   "nbconvert_exporter": "python",
   "pygments_lexer": "ipython3",
   "version": "3.11.4"
  }
 },
 "nbformat": 4,
 "nbformat_minor": 2
}
